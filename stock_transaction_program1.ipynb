{
 "cells": [
  {
   "cell_type": "code",
   "execution_count": 15,
   "metadata": {},
   "outputs": [
    {
     "name": "stdout",
     "output_type": "stream",
     "text": [
      "Amount Paid To Acquire: $ 80,000.00\n",
      "Acquisition Commission: $ 2,400.00\n",
      "Amount Received To Sell: $ 85,500.00\n",
      "Sell Commission: $ 2,565.00\n",
      "Amount Left After Sell & Commissions: $ 80,535.00\n",
      "Joe made a profit of: $ 535.00\n"
     ]
    }
   ],
   "source": [
    "#set constants:number of shares, commission percentage\n",
    "\n",
    "NUM_SHARES = 2000\n",
    "COMM_PCT = .03\n",
    "\n",
    "#set variables: stock price before & after\n",
    "\n",
    "stock_price_buy = 40\n",
    "stock_price_sell = 42.75\n",
    "\n",
    "\n",
    "#calculate buy values: amount paid & amount received\n",
    "\n",
    "amt_paid = NUM_SHARES * stock_price_buy\n",
    "\n",
    "amt_received = NUM_SHARES * stock_price_sell\n",
    "\n",
    "#calculate buy & sell commission\n",
    "\n",
    "comm_buy = amt_paid * COMM_PCT\n",
    "\n",
    "comm_sell =  amt_received * COMM_PCT\n",
    "\n",
    "#calculate profit/loss\n",
    "\n",
    "prof_loss = (amt_received - comm_sell - comm_buy) \n",
    "\n",
    "pos_or_neg = prof_loss - amt_paid\n",
    "\n",
    "\n",
    "#display amount paid, buy commission, amount received, sell commission, +/-\n",
    "print('Amount Paid To Acquire: $', format(amt_paid, ',.2f'))\n",
    "print('Acquisition Commission: $', format(comm_buy, ',.2f'))\n",
    "print('Amount Received To Sell: $', format(amt_received, ',.2f'))\n",
    "print('Sell Commission: $', format(comm_sell, ',.2f'))\n",
    "print('Amount Left After Sell & Commissions: $', format(prof_loss, ',.2f'))\n",
    "print('Joe made a profit of: $', format(pos_or_neg, ',.2f'))\n",
    "\n"
   ]
  },
  {
   "cell_type": "code",
   "execution_count": null,
   "metadata": {},
   "outputs": [],
   "source": []
  }
 ],
 "metadata": {
  "kernelspec": {
   "display_name": "Python 3",
   "language": "python",
   "name": "python3"
  },
  "language_info": {
   "codemirror_mode": {
    "name": "ipython",
    "version": 3
   },
   "file_extension": ".py",
   "mimetype": "text/x-python",
   "name": "python",
   "nbconvert_exporter": "python",
   "pygments_lexer": "ipython3",
   "version": "3.8.3"
  }
 },
 "nbformat": 4,
 "nbformat_minor": 4
}
