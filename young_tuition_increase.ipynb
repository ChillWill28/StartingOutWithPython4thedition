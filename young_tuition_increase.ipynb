{
 "cells": [
  {
   "cell_type": "code",
   "execution_count": 1,
   "metadata": {},
   "outputs": [
    {
     "name": "stdout",
     "output_type": "stream",
     "text": [
      "Loan Amount\tTotal\n",
      "_______________\n"
     ]
    }
   ],
   "source": [
    "#Tuition\n",
    "#Willie Young\n",
    "#Chapter4_Homework\n",
    "\n",
    "#prompt user for multiplier\n",
    "\n",
    "int_rate = .03\n",
    "# print the table headings\n",
    "\n",
    "print('Loan Amount\\tTotal')\n",
    "print('_______________')\n",
    "\n",
    "#print the numbers 5-31 with step value of 5\n",
    "\n",
    "for number in range(1-6):\n",
    "        multiple = number * int_rate\n",
    "        print(number, '\\t', multiple)\n"
   ]
  },
  {
   "cell_type": "code",
   "execution_count": null,
   "metadata": {},
   "outputs": [],
   "source": []
  }
 ],
 "metadata": {
  "kernelspec": {
   "display_name": "Python 3",
   "language": "python",
   "name": "python3"
  },
  "language_info": {
   "codemirror_mode": {
    "name": "ipython",
    "version": 3
   },
   "file_extension": ".py",
   "mimetype": "text/x-python",
   "name": "python",
   "nbconvert_exporter": "python",
   "pygments_lexer": "ipython3",
   "version": "3.8.3"
  }
 },
 "nbformat": 4,
 "nbformat_minor": 4
}
